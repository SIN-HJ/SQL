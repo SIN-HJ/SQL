{
 "cells": [
  {
   "cell_type": "markdown",
   "metadata": {},
   "source": [
    "5. 데이터를 정렬해서 출력하기(ORDER BY)<Br>\n",
    "* order by절은 데이터를 정렬하는 절\n",
    "* select 문장 맨 마지막에 기술\n",
    "※ order by절은 무조건 맨 마지막에 작성\n",
    ">ex)<br>\n",
    "select ename, sal<br>\n",
    "    from emp<br>\n",
    "    order by sal asc; → order by 뒤 정렬하고 싶은 컬럼명과 정렬방법\n",
    "\n",
    "* 정렬방법\n",
    "    - Asc : 올림차순(낮은값부터 높은값순)\n",
    "    - Desc : 내림차순(높은값부터 낮은값순)\n",
    "<Br>\n",
    "* order by 절에 컬럼을 여러개 작성할 수 있다\n",
    ">ex)<br>\n",
    "select ename, deptno, sal<br>\n",
    "    from emp<br>\n",
    "    order by deptno asc, sal desc;<br>\n",
    "\n",
    "* order by 절 뒤에 컬럼명을 컬럼순서의 번호로 대체 가능\n",
    ">ex)<br>\n",
    "select ename, deptno, sal<br>\n",
    "    from emp<br>\n",
    "    order by 2 asc, 3 desc;\n",
    "\n",
    "\n",
    "6. WHERE절 1(숫자 데이터 검색)\n",
    "* where절을 사용하면 특정 조건에 대한 데이터만 선별해서 출력할 수 있다\n",
    ">ex)<br>\n",
    "select ename, sal<br>\n",
    "    from emp<br>\n",
    "    where sal = 3000;\n",
    "\n",
    "7. WHERE절 2(문자와 날짜 검색)\n",
    "* where절로 데이터를 검색할 때 숫자와는 다르게 문자는 양쪽에 싱글 쿼테이션 마크를 둘러줘야 한다\n",
    ">ex)<br>\n",
    "select ename, sal<br>\n",
    "    from emp<br>\n",
    "    where ename = 'SCOTT';\n",
    "\n",
    "* SQL은 대소문자를 구분하지 않으나 데이터는 대소문자를 구분한다\n",
    "* 싱글 쿼테이션 마크 안에 있는 데이터는 문자 또는 날짜이다. 라고 오라클에게 알려주는 것임\n",
    "* 날짜검색을 할때 년도/월/일 순으로 검색하며 나라마다 순서가 다를 수 있다\n",
    "\n"
   ]
  }
 ],
 "metadata": {
  "kernelspec": {
   "display_name": "Python 3.8.8 ('base')",
   "language": "python",
   "name": "python3"
  },
  "language_info": {
   "name": "python",
   "version": "3.8.8"
  },
  "orig_nbformat": 4,
  "vscode": {
   "interpreter": {
    "hash": "0718fdd0e88c45551df0ee142b9a8882eb7db0117f72ba270d6c4970fe2dfaf1"
   }
  }
 },
 "nbformat": 4,
 "nbformat_minor": 2
}
