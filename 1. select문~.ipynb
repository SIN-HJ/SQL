{
 "cells": [
  {
   "cell_type": "markdown",
   "metadata": {},
   "source": [
    "\n",
    "\n",
    "001. 테이블에서 모든 열(COLUMN) 출력하기<br>\n",
    "select *<br>\n",
    "    from emp;<br>\n",
    "→ * 은 asterisk 이며, 모든 컬럼을 다 선택할때 사용\n",
    "> select * from emp; : select(검색) *(검색할 컬럼) from emp(emp 테이블로부터 검색)<br>\n",
    "\n",
    "> ※해당 테이블의 컬럼종류를 알고싶을때 : describe + 테이블명"
   ]
  },
  {
   "cell_type": "markdown",
   "metadata": {},
   "source": [
    "2. 컬럼 별칭을 사용하여 출력되는 컬럼명 변경하기\n",
    "* 컬럼 별칭은 컬럼명 대신에 다른 컬럼명을 지정할때 사용하는 문법<br>\n",
    "* 컬럼명 뒤에 as 를 쓰고 컬럼 별칭을 작성\n",
    "* 결과값에서 별칭이 출력(as 는 생략가능)\n",
    ">ex)<br>\n",
    "select ename as 이름, sal as 월급<br>\n",
    "    from emp;\n",
    "    \n",
    "→ ename을 이름으로, sal을 월급으로 별칭을 작성\n",
    "\n",
    "\n",
    "3. 연결 연산자 사용\n",
    "* 연결 연산자는 두 컬럼의 데이터를 연결해서 출력하는 연산자\n",
    ">ex)<br>\n",
    "select ename || sal<br>\n",
    "    from emp;<br>\n",
    "select ename || '의 월급은' || sal<br>\n",
    "    from emp;\n",
    "\n",
    "4. 중복된 데이터를 제거해서 출력하기(DISTINCT)<br>\n",
    "* distinct 키워드를 컬럼명 앞에 작성하고 실행하면 중복된 데이터를 제거하고 출력할 수 있다.<br>\n",
    ">ex)<br>\n",
    "select distinct job<br>\n",
    "    from emp;"
   ]
  }
 ],
 "metadata": {
  "kernelspec": {
   "display_name": "Python 3.8.8 ('base')",
   "language": "python",
   "name": "python3"
  },
  "language_info": {
   "name": "python",
   "version": "3.8.8"
  },
  "orig_nbformat": 4,
  "vscode": {
   "interpreter": {
    "hash": "0718fdd0e88c45551df0ee142b9a8882eb7db0117f72ba270d6c4970fe2dfaf1"
   }
  }
 },
 "nbformat": 4,
 "nbformat_minor": 2
}
