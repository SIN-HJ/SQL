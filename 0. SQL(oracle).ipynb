{
 "cells": [
  {
   "cell_type": "markdown",
   "metadata": {},
   "source": [
    "# 0. SQL(oracle)\n",
    "\n",
    "### SQL 이란?\n",
    "\n",
    "* 구조적 질의 언어\n",
    "* 데이터를 검색하고 조작하는 언어\n",
    "* 원하는 정보를 얻기위해(고객의 needs를 파악 가능) 데이터 분석가, 개발자 등 많은 업무에서 사용\n",
    "\n",
    ">회사의 중요 데이터는 다 database에 저장되며 대용량 데이터라 데이터를 검색하는 시간이 오래걸림<br>\n",
    "생각 안하고 SQL을 작성하면 시간이 오래걸려 빨리 결과를 보기 힘들 수 있어 검색시간을 고려하여 SQL을 작성<br>\n",
    "오라클은 버전이 업그레이드 될 수록 점점 인공지능화 되어지고 있어서 SQL을 자체적으로 튜닝\n",
    "\n",
    "\n",
    "### SQL의 종류\n",
    "\n",
    "1. Query문 : 데이터를 검색하는 언어\n",
    "> select문의 6가지절\n",
    "2. DML문 : Data Manipulation Language\n",
    "> insert(입력), update(수정), delete(삭제), merge(3가지 한번에 수행)\n",
    "3. DDL문 : Data Definition Language\n",
    "> create(생성), alter(수정), drop(삭제), truncate(삭제), rename(이름변경)\n",
    "4. DCL문 : Data control Language\n",
    "> grant(데이터 액세스[접근]권한 부여), revoke(액세스 권한 취소)\n",
    "5. TCL문 : Transaction Control Language\n",
    "> commit(현재 상태를 db에 영구히 저장), rollback(현재까지의 작업 취소), savepoint(특정시점까지 rollback)\n",
    "\n",
    "\n",
    "### SQL 작성시 주의사항!\n",
    "\n",
    "1. SQL은 대소문자를 구분하지 않는다.\n",
    "2. 절 라인 다음으로 분리해서 작성한다<br>\n",
    "     ex)<br> \n",
    "     select ename, sal → select 절<br>\n",
    "     from emp; → from 절\n",
    "3. 들여쓰기를 사용해서 SQL의 가독성을 높인다.<br>\n",
    "     ex)<br>\n",
    "     select ename, sal<br>\n",
    "          from emp;\n",
    "4. 가급적 소문자로 작성해야 오류를 찾는데 수월하다."
   ]
  }
 ],
 "metadata": {
  "kernelspec": {
   "display_name": "Python 3.8.5 ('base')",
   "language": "python",
   "name": "python3"
  },
  "language_info": {
   "name": "python",
   "version": "3.8.5"
  },
  "orig_nbformat": 4,
  "vscode": {
   "interpreter": {
    "hash": "ad2bdc8ecc057115af97d19610ffacc2b4e99fae6737bb82f5d7fb13d2f2c186"
   }
  }
 },
 "nbformat": 4,
 "nbformat_minor": 2
}
